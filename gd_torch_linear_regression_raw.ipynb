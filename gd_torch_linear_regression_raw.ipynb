{
 "cells": [
  {
   "cell_type": "code",
   "execution_count": 1,
   "id": "dc0bfde0-cd84-4716-b7a6-b7b9e781b3a8",
   "metadata": {},
   "outputs": [],
   "source": [
    "import torch\n",
    "import numpy as np"
   ]
  },
  {
   "cell_type": "code",
   "execution_count": 2,
   "id": "a32cadf3-d067-4f46-871b-0296c7adb7a7",
   "metadata": {},
   "outputs": [
    {
     "data": {
      "text/plain": [
       "<torch._C.Generator at 0x7fdd21489410>"
      ]
     },
     "execution_count": 2,
     "metadata": {},
     "output_type": "execute_result"
    }
   ],
   "source": [
    "torch.manual_seed(1)"
   ]
  },
  {
   "cell_type": "code",
   "execution_count": 3,
   "id": "c17eb921-6f9e-4b1e-a9d8-ee24416812e1",
   "metadata": {},
   "outputs": [],
   "source": [
    "model = lambda x, w, b: torch.matmul(x, w) + b"
   ]
  },
  {
   "cell_type": "code",
   "execution_count": 4,
   "id": "3eb9e15e-d87f-4628-acdb-a2a3f4c9b4cd",
   "metadata": {},
   "outputs": [
    {
     "data": {
      "text/plain": [
       "<function __main__.<lambda>(x, w, b)>"
      ]
     },
     "execution_count": 4,
     "metadata": {},
     "output_type": "execute_result"
    }
   ],
   "source": [
    "model"
   ]
  },
  {
   "cell_type": "code",
   "execution_count": 5,
   "id": "b24390cc-1743-4e60-b911-0791e2e59a5f",
   "metadata": {},
   "outputs": [],
   "source": [
    "w = torch.randn(20, requires_grad=True)"
   ]
  },
  {
   "cell_type": "code",
   "execution_count": 6,
   "id": "b2013e3b-34da-4ab7-abcd-10218cb04f73",
   "metadata": {},
   "outputs": [],
   "source": [
    "b = torch.randn(1, requires_grad=True)"
   ]
  },
  {
   "cell_type": "code",
   "execution_count": 7,
   "id": "25fa8a4e-bc16-4550-bf86-d7729766cba1",
   "metadata": {},
   "outputs": [],
   "source": [
    "learning_rate = 1e-4"
   ]
  },
  {
   "cell_type": "code",
   "execution_count": 8,
   "id": "8552f10e-df79-49ec-9b36-f9c46b64b672",
   "metadata": {},
   "outputs": [],
   "source": [
    "x = torch.rand(1000, 20)"
   ]
  },
  {
   "cell_type": "code",
   "execution_count": 9,
   "id": "5fe592e6-2aec-41b0-8cb3-598c9c373099",
   "metadata": {},
   "outputs": [],
   "source": [
    "y = x @ torch.tensor([0., 1] + [0] * 18) + 3."
   ]
  },
  {
   "cell_type": "code",
   "execution_count": 10,
   "id": "8f4b8d03-9ccf-479c-b56e-86d571312cfb",
   "metadata": {},
   "outputs": [
    {
     "data": {
      "text/plain": [
       "tensor([3.2885, 3.8248, 3.1227, 3.4075, 3.5628])"
      ]
     },
     "execution_count": 10,
     "metadata": {},
     "output_type": "execute_result"
    }
   ],
   "source": [
    "y[:5]"
   ]
  },
  {
   "cell_type": "code",
   "execution_count": 11,
   "id": "66b0d61d-fa05-402c-bbed-1d55e0007b30",
   "metadata": {},
   "outputs": [
    {
     "data": {
      "text/plain": [
       "torch.Size([1000])"
      ]
     },
     "execution_count": 11,
     "metadata": {},
     "output_type": "execute_result"
    }
   ],
   "source": [
    "y.shape"
   ]
  },
  {
   "cell_type": "code",
   "execution_count": 12,
   "id": "0e0a95f0-3a9a-43f4-a445-62d11f85ec70",
   "metadata": {},
   "outputs": [
    {
     "data": {
      "text/plain": [
       "tensor([[0.9906, 0.2885, 0.8750, 0.5059, 0.2366, 0.7570, 0.2346, 0.6471, 0.3556,\n",
       "         0.4452, 0.0193, 0.2616, 0.7713, 0.3785, 0.9980, 0.9008, 0.4766, 0.1663,\n",
       "         0.8045, 0.6552],\n",
       "        [0.1768, 0.8248, 0.8036, 0.9434, 0.2197, 0.4177, 0.4903, 0.5730, 0.1205,\n",
       "         0.1452, 0.7720, 0.3828, 0.7442, 0.5285, 0.6642, 0.6099, 0.6818, 0.7479,\n",
       "         0.0369, 0.7517],\n",
       "        [0.1484, 0.1227, 0.5304, 0.4148, 0.7937, 0.2104, 0.0555, 0.8639, 0.4259,\n",
       "         0.7812, 0.6607, 0.1251, 0.6004, 0.6201, 0.1652, 0.2628, 0.6705, 0.5896,\n",
       "         0.2873, 0.3486],\n",
       "        [0.9579, 0.4075, 0.7819, 0.7165, 0.1768, 0.0748, 0.9799, 0.5261, 0.8427,\n",
       "         0.6036, 0.6608, 0.8735, 0.9741, 0.1682, 0.5625, 0.8731, 0.8622, 0.8106,\n",
       "         0.1381, 0.1399],\n",
       "        [0.1976, 0.5628, 0.9983, 0.1842, 0.7664, 0.2233, 0.0299, 0.3937, 0.7881,\n",
       "         0.9642, 0.1895, 0.6085, 0.9314, 0.8313, 0.8116, 0.8553, 0.8163, 0.6291,\n",
       "         0.1581, 0.0801]])"
      ]
     },
     "execution_count": 12,
     "metadata": {},
     "output_type": "execute_result"
    }
   ],
   "source": [
    "x[:5, :]"
   ]
  },
  {
   "cell_type": "code",
   "execution_count": 13,
   "id": "55a1fdf5-0a82-4ecb-9ea2-a21118fd6816",
   "metadata": {},
   "outputs": [
    {
     "name": "stdout",
     "output_type": "stream",
     "text": [
      "tensor(27.0643, grad_fn=<MeanBackward0>)\n",
      "tensor(1.3977, grad_fn=<MeanBackward0>)\n",
      "tensor(1.0463, grad_fn=<MeanBackward0>)\n",
      "tensor(0.7941, grad_fn=<MeanBackward0>)\n"
     ]
    }
   ],
   "source": [
    "for epoch in range(40_000):\n",
    "    output = model(x, w, b)\n",
    "    loss = (output.view(-1) - y.view(-1)).pow(2).mean()\n",
    "    # print(output)\n",
    "    # print(loss.item())\n",
    "    loss.backward()\n",
    "    # print(f'{w.grad=}')\n",
    "    with torch.no_grad():\n",
    "        w = w - learning_rate * w.grad\n",
    "        b = b - learning_rate * b.grad\n",
    "    # print(f'{w.grad=}')\n",
    "    if epoch % 10_000 == 0:\n",
    "        print(loss) # loss.item())\n",
    "    w.requires_grad_(True)\n",
    "    b.requires_grad_(True)"
   ]
  },
  {
   "cell_type": "code",
   "execution_count": 14,
   "id": "13d4461c-c237-489e-8790-574ec5fbb32b",
   "metadata": {},
   "outputs": [
    {
     "data": {
      "text/plain": [
       "tensor([-0.4823,  0.4480,  0.1001, -0.4443,  0.7652,  0.5827, -0.0266,  0.7766,\n",
       "         0.6334,  0.9162,  1.2457,  0.3381,  0.3601,  0.0699, -0.0675,  0.3579,\n",
       "        -0.1323,  0.4685,  0.4810,  1.2350], requires_grad=True)"
      ]
     },
     "execution_count": 14,
     "metadata": {},
     "output_type": "execute_result"
    }
   ],
   "source": [
    "w"
   ]
  },
  {
   "cell_type": "code",
   "execution_count": 15,
   "id": "da9ac3ff-3acf-4683-811d-3b1b1310321a",
   "metadata": {},
   "outputs": [
    {
     "data": {
      "text/plain": [
       "tensor([-0.3643], requires_grad=True)"
      ]
     },
     "execution_count": 15,
     "metadata": {},
     "output_type": "execute_result"
    }
   ],
   "source": [
    "b"
   ]
  },
  {
   "cell_type": "code",
   "execution_count": null,
   "id": "3387fa90-c47a-4652-8a0d-60102af3e6a5",
   "metadata": {},
   "outputs": [],
   "source": []
  }
 ],
 "metadata": {
  "kernelspec": {
   "display_name": "Python 3 (ipykernel)",
   "language": "python",
   "name": "python3"
  },
  "language_info": {
   "codemirror_mode": {
    "name": "ipython",
    "version": 3
   },
   "file_extension": ".py",
   "mimetype": "text/x-python",
   "name": "python",
   "nbconvert_exporter": "python",
   "pygments_lexer": "ipython3",
   "version": "3.8.10"
  }
 },
 "nbformat": 4,
 "nbformat_minor": 5
}
