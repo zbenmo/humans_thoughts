{
 "cells": [
  {
   "cell_type": "code",
   "execution_count": 1,
   "id": "ae961b79-f751-4a94-974e-b2d1edb96f7b",
   "metadata": {},
   "outputs": [],
   "source": [
    "import torch\n",
    "import numpy as np"
   ]
  },
  {
   "cell_type": "code",
   "execution_count": 2,
   "id": "8e2d9f09-f66f-4d46-ad92-73745db5ea53",
   "metadata": {},
   "outputs": [],
   "source": [
    "a = np.ones(5)\n",
    "b = torch.from_numpy(a)"
   ]
  },
  {
   "cell_type": "code",
   "execution_count": 3,
   "id": "c39be386-0dae-4f0a-b147-dbd36cb9428a",
   "metadata": {},
   "outputs": [
    {
     "data": {
      "text/plain": [
       "array([2., 2., 2., 2., 2.])"
      ]
     },
     "execution_count": 3,
     "metadata": {},
     "output_type": "execute_result"
    }
   ],
   "source": [
    "np.add(a, 1, out=a)"
   ]
  },
  {
   "cell_type": "code",
   "execution_count": 4,
   "id": "ad991008-cabc-4da9-8fb2-248d0bd112f9",
   "metadata": {},
   "outputs": [
    {
     "data": {
      "text/plain": [
       "array([2., 2., 2., 2., 2.])"
      ]
     },
     "execution_count": 4,
     "metadata": {},
     "output_type": "execute_result"
    }
   ],
   "source": [
    "a"
   ]
  },
  {
   "cell_type": "code",
   "execution_count": 5,
   "id": "324f87d1-17c2-4365-af63-b35bf7bc1a7a",
   "metadata": {},
   "outputs": [
    {
     "name": "stdout",
     "output_type": "stream",
     "text": [
      "[2. 2. 2. 2. 2.]\n"
     ]
    }
   ],
   "source": [
    "print(a)"
   ]
  },
  {
   "cell_type": "code",
   "execution_count": 6,
   "id": "71ce48bb-3483-4210-b17e-9884db0ccf6d",
   "metadata": {},
   "outputs": [
    {
     "name": "stdout",
     "output_type": "stream",
     "text": [
      "tensor([2., 2., 2., 2., 2.], dtype=torch.float64)\n"
     ]
    }
   ],
   "source": [
    "print(b)"
   ]
  },
  {
   "cell_type": "code",
   "execution_count": 7,
   "id": "647f682f-0c14-436a-9251-a1452e8022cf",
   "metadata": {},
   "outputs": [
    {
     "name": "stdout",
     "output_type": "stream",
     "text": [
      "Random Tensor: \n",
      " tensor([[0.6686, 0.6661, 0.3895],\n",
      "        [0.8044, 0.6379, 0.2905]]) \n",
      "\n",
      "Ones Tensor: \n",
      " tensor([[1., 1., 1.],\n",
      "        [1., 1., 1.]]) \n",
      "\n",
      "Zeros Tensor: \n",
      " tensor([[0., 0., 0.],\n",
      "        [0., 0., 0.]])\n"
     ]
    }
   ],
   "source": [
    "shape = (2, 3,)\n",
    "rand_tensor = torch.rand(shape)\n",
    "ones_tensor = torch.ones(shape)\n",
    "zeros_tensor = torch.zeros(shape)\n",
    "\n",
    "print(f\"Random Tensor: \\n {rand_tensor} \\n\")\n",
    "print(f\"Ones Tensor: \\n {ones_tensor} \\n\")\n",
    "print(f\"Zeros Tensor: \\n {zeros_tensor}\")"
   ]
  },
  {
   "cell_type": "code",
   "execution_count": 8,
   "id": "e0b56903-e253-4ab2-b520-d9a9988edb6e",
   "metadata": {},
   "outputs": [],
   "source": [
    "mat1 = np.zeros((3, 4))\n",
    "mat2 = np.ones((3, 4))"
   ]
  },
  {
   "cell_type": "code",
   "execution_count": 9,
   "id": "4470ec5f-015c-42e7-a04d-f8ad36d7c241",
   "metadata": {},
   "outputs": [
    {
     "data": {
      "text/plain": [
       "array([[0., 0., 0., 0.],\n",
       "       [0., 0., 0., 0.],\n",
       "       [0., 0., 0., 0.]])"
      ]
     },
     "execution_count": 9,
     "metadata": {},
     "output_type": "execute_result"
    }
   ],
   "source": [
    "mat1"
   ]
  },
  {
   "cell_type": "code",
   "execution_count": 10,
   "id": "c010021e-d914-4ff0-afa0-971c64b62312",
   "metadata": {},
   "outputs": [
    {
     "data": {
      "text/plain": [
       "array([0., 0., 0., 0., 0., 0., 0., 0., 0., 0., 0., 0.])"
      ]
     },
     "execution_count": 10,
     "metadata": {},
     "output_type": "execute_result"
    }
   ],
   "source": [
    "mat1.ravel()"
   ]
  },
  {
   "cell_type": "code",
   "execution_count": 11,
   "id": "efe9b87c-a9fb-4dfe-acd3-5e64e492cf35",
   "metadata": {},
   "outputs": [
    {
     "data": {
      "text/plain": [
       "array([[0., 0., 0., 0., 0., 0., 0., 0., 0., 0., 0., 0.],\n",
       "       [1., 1., 1., 1., 1., 1., 1., 1., 1., 1., 1., 1.]])"
      ]
     },
     "execution_count": 11,
     "metadata": {},
     "output_type": "execute_result"
    }
   ],
   "source": [
    "np.array((mat1.ravel(), mat2.ravel()))"
   ]
  },
  {
   "cell_type": "code",
   "execution_count": 12,
   "id": "ad9aa9b5-c151-4451-a30c-29136649afdd",
   "metadata": {},
   "outputs": [
    {
     "data": {
      "text/plain": [
       "array([[0., 1.],\n",
       "       [0., 1.],\n",
       "       [0., 1.],\n",
       "       [0., 1.],\n",
       "       [0., 1.],\n",
       "       [0., 1.],\n",
       "       [0., 1.],\n",
       "       [0., 1.],\n",
       "       [0., 1.],\n",
       "       [0., 1.],\n",
       "       [0., 1.],\n",
       "       [0., 1.]])"
      ]
     },
     "execution_count": 12,
     "metadata": {},
     "output_type": "execute_result"
    }
   ],
   "source": [
    "np.array((mat1.ravel(), mat2.ravel())).T"
   ]
  },
  {
   "cell_type": "code",
   "execution_count": 14,
   "id": "7ceebc80-0124-4cf6-bc97-0117952b2bf7",
   "metadata": {},
   "outputs": [],
   "source": [
    "a = torch.rand(2, 3, 4)"
   ]
  },
  {
   "cell_type": "code",
   "execution_count": 17,
   "id": "a7e23ffc-1275-4ad1-8a9d-b37bfda99f99",
   "metadata": {},
   "outputs": [
    {
     "data": {
      "text/plain": [
       "tensor([[[0.2484, 0.7206, 0.0873, 0.2178],\n",
       "         [0.9737, 0.9787, 0.1814, 0.8706],\n",
       "         [0.7192, 0.8532, 0.6377, 0.6599]],\n",
       "\n",
       "        [[0.9495, 0.1703, 0.2456, 0.7058],\n",
       "         [0.8600, 0.5492, 0.3543, 0.1122],\n",
       "         [0.8476, 0.4476, 0.6227, 0.7308]]])"
      ]
     },
     "execution_count": 17,
     "metadata": {},
     "output_type": "execute_result"
    }
   ],
   "source": [
    "a"
   ]
  },
  {
   "cell_type": "code",
   "execution_count": 28,
   "id": "0946e6a2-e29f-4b56-a3f8-65035ed3ef25",
   "metadata": {},
   "outputs": [],
   "source": [
    "b = torch.rand(2, 3, 4, 5)"
   ]
  },
  {
   "cell_type": "code",
   "execution_count": 29,
   "id": "9f547ad7-32e0-4e82-87e6-e2b0be7ab412",
   "metadata": {},
   "outputs": [
    {
     "ename": "RuntimeError",
     "evalue": "The size of tensor a (2) must match the size of tensor b (3) at non-singleton dimension 1",
     "output_type": "error",
     "traceback": [
      "\u001b[0;31m---------------------------------------------------------------------------\u001b[0m",
      "\u001b[0;31mRuntimeError\u001b[0m                              Traceback (most recent call last)",
      "Cell \u001b[0;32mIn[29], line 1\u001b[0m\n\u001b[0;32m----> 1\u001b[0m (\u001b[43ma\u001b[49m\u001b[43m \u001b[49m\u001b[38;5;241;43m@\u001b[39;49m\u001b[43m \u001b[49m\u001b[43mb\u001b[49m)\u001b[38;5;241m.\u001b[39mshape\n",
      "\u001b[0;31mRuntimeError\u001b[0m: The size of tensor a (2) must match the size of tensor b (3) at non-singleton dimension 1"
     ]
    }
   ],
   "source": [
    "(a @ b).shape"
   ]
  },
  {
   "cell_type": "code",
   "execution_count": 6,
   "id": "f5f78473-b812-45e1-ac65-f9d695ef9ebd",
   "metadata": {},
   "outputs": [],
   "source": [
    "points = np.linspace(1, 0, 100)"
   ]
  },
  {
   "cell_type": "code",
   "execution_count": 7,
   "id": "2743bb65-7add-463d-a1da-80f4ef7a89f3",
   "metadata": {},
   "outputs": [
    {
     "data": {
      "text/plain": [
       "array([2.71828183, 2.69096264, 2.66391802, 2.6371452 , 2.61064146,\n",
       "       2.58440408, 2.55843038, 2.53271773, 2.5072635 , 2.48206508,\n",
       "       2.45711992, 2.43242545, 2.40797917, 2.38377858, 2.35982121,\n",
       "       2.33610462, 2.31262638, 2.2893841 , 2.26637541, 2.24359796,\n",
       "       2.22104942, 2.19872751, 2.17662993, 2.15475444, 2.1330988 ,\n",
       "       2.1116608 , 2.09043826, 2.06942901, 2.0486309 , 2.02804182,\n",
       "       2.00765966, 1.98748235, 1.96750782, 1.94773404, 1.92815899,\n",
       "       1.90878067, 1.88959711, 1.87060634, 1.85180644, 1.83319548,\n",
       "       1.81477156, 1.7965328 , 1.77847735, 1.76060336, 1.742909  ,\n",
       "       1.72539247, 1.70805199, 1.69088579, 1.6738921 , 1.65706921,\n",
       "       1.64041539, 1.62392894, 1.60760818, 1.59145146, 1.5754571 ,\n",
       "       1.5596235 , 1.54394902, 1.52843208, 1.51307108, 1.49786447,\n",
       "       1.48281068, 1.46790818, 1.45315546, 1.43855101, 1.42409333,\n",
       "       1.40978096, 1.39561243, 1.38158629, 1.36770112, 1.35395549,\n",
       "       1.34034801, 1.32687729, 1.31354196, 1.30034064, 1.287272  ,\n",
       "       1.2743347 , 1.26152743, 1.24884887, 1.23629773, 1.22387273,\n",
       "       1.21157261, 1.1993961 , 1.18734197, 1.17540899, 1.16359593,\n",
       "       1.1519016 , 1.1403248 , 1.12886434, 1.11751907, 1.10628782,\n",
       "       1.09516944, 1.0841628 , 1.07326679, 1.06248028, 1.05180218,\n",
       "       1.04123139, 1.03076684, 1.02040746, 1.0101522 , 1.        ])"
      ]
     },
     "execution_count": 7,
     "metadata": {},
     "output_type": "execute_result"
    }
   ],
   "source": [
    "np.exp(points)"
   ]
  },
  {
   "cell_type": "code",
   "execution_count": 8,
   "id": "1f5389a9-7330-48b8-9fd3-1108cab7837b",
   "metadata": {},
   "outputs": [
    {
     "data": {
      "text/plain": [
       "array([0.54365637, 0.53819253, 0.5327836 , 0.52742904, 0.52212829,\n",
       "       0.51688082, 0.51168608, 0.50654355, 0.5014527 , 0.49641302,\n",
       "       0.49142398, 0.48648509, 0.48159583, 0.47675572, 0.47196424,\n",
       "       0.46722092, 0.46252528, 0.45787682, 0.45327508, 0.44871959,\n",
       "       0.44420988, 0.4397455 , 0.43532599, 0.43095089, 0.42661976,\n",
       "       0.42233216, 0.41808765, 0.4138858 , 0.40972618, 0.40560836,\n",
       "       0.40153193, 0.39749647, 0.39350156, 0.38954681, 0.3856318 ,\n",
       "       0.38175613, 0.37791942, 0.37412127, 0.37036129, 0.3666391 ,\n",
       "       0.36295431, 0.35930656, 0.35569547, 0.35212067, 0.3485818 ,\n",
       "       0.34507849, 0.3416104 , 0.33817716, 0.33477842, 0.33141384,\n",
       "       0.32808308, 0.32478579, 0.32152164, 0.31829029, 0.31509142,\n",
       "       0.3119247 , 0.3087898 , 0.30568642, 0.30261422, 0.29957289,\n",
       "       0.29656214, 0.29358164, 0.29063109, 0.2877102 , 0.28481867,\n",
       "       0.28195619, 0.27912249, 0.27631726, 0.27354022, 0.2707911 ,\n",
       "       0.2680696 , 0.26537546, 0.26270839, 0.26006813, 0.2574544 ,\n",
       "       0.25486694, 0.25230549, 0.24976977, 0.24725955, 0.24477455,\n",
       "       0.24231452, 0.23987922, 0.23746839, 0.2350818 , 0.23271919,\n",
       "       0.23038032, 0.22806496, 0.22577287, 0.22350381, 0.22125756,\n",
       "       0.21903389, 0.21683256, 0.21465336, 0.21249606, 0.21036044,\n",
       "       0.20824628, 0.20615337, 0.20408149, 0.20203044, 0.2       ])"
      ]
     },
     "execution_count": 8,
     "metadata": {},
     "output_type": "execute_result"
    }
   ],
   "source": [
    "np.exp(points) * 0.2"
   ]
  },
  {
   "cell_type": "code",
   "execution_count": 10,
   "id": "b6149c6b-2ed6-461c-a893-98732a30f967",
   "metadata": {},
   "outputs": [],
   "source": [
    "import matplotlib.pyplot as plt"
   ]
  },
  {
   "cell_type": "code",
   "execution_count": 12,
   "id": "0875c5e0-cd12-4f71-9079-333b9c18b9c5",
   "metadata": {},
   "outputs": [
    {
     "data": {
      "image/png": "[encoded data removed]",
      "text/plain": [
       "<Figure size 640x480 with 1 Axes>"
      ]
     },
     "metadata": {},
     "output_type": "display_data"
    }
   ],
   "source": [
    "plt.plot(range(len(points)), np.exp(points) * 0.2);"
   ]
  },
  {
   "cell_type": "code",
   "execution_count": null,
   "id": "61da1601-436b-42fa-aa67-98feda8f7b64",
   "metadata": {},
   "outputs": [],
   "source": []
  }
 ],
 "metadata": {
  "kernelspec": {
   "display_name": "Python 3 (ipykernel)",
   "language": "python",
   "name": "python3"
  },
  "language_info": {
   "codemirror_mode": {
    "name": "ipython",
    "version": 3
   },
   "file_extension": ".py",
   "mimetype": "text/x-python",
   "name": "python",
   "nbconvert_exporter": "python",
   "pygments_lexer": "ipython3",
   "version": "3.8.10"
  }
 },
 "nbformat": 4,
 "nbformat_minor": 5
}
