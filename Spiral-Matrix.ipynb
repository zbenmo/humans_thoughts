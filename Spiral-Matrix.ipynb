{
 "cells": [
  {
   "cell_type": "code",
   "execution_count": 1,
   "id": "1f70efd4-ab5a-4626-ae6c-2c5bea3c0f93",
   "metadata": {},
   "outputs": [],
   "source": [
    "import numpy as np\n",
    "from pprint import pprint"
   ]
  },
  {
   "cell_type": "code",
   "execution_count": 2,
   "id": "3b5c9099-d45b-4717-bf02-cce9654d5e8d",
   "metadata": {},
   "outputs": [],
   "source": [
    "mat = np.array(range(25)).reshape(5, -1)"
   ]
  },
  {
   "cell_type": "code",
   "execution_count": 3,
   "id": "dfc62861-f4b4-4385-990f-a86dbf83ea75",
   "metadata": {},
   "outputs": [
    {
     "data": {
      "text/plain": [
       "array([[ 0,  1,  2,  3,  4],\n",
       "       [ 5,  6,  7,  8,  9],\n",
       "       [10, 11, 12, 13, 14],\n",
       "       [15, 16, 17, 18, 19],\n",
       "       [20, 21, 22, 23, 24]])"
      ]
     },
     "execution_count": 3,
     "metadata": {},
     "output_type": "execute_result"
    }
   ],
   "source": [
    "mat"
   ]
  },
  {
   "cell_type": "code",
   "execution_count": 4,
   "id": "8f6b2175-261d-45fb-9638-17cbc066e03b",
   "metadata": {},
   "outputs": [],
   "source": [
    "def spiral_matrix(mat):\n",
    "    rows, cols = mat.shape\n",
    "    if rows < 1 or cols < 1:\n",
    "        return\n",
    "    yield from mat[0, :]\n",
    "    yield from spiral_matrix(np.rot90(mat[1:,:]))"
   ]
  },
  {
   "cell_type": "code",
   "execution_count": 5,
   "id": "3d13e3c4-d78a-44e4-ac1f-9ed2084451a7",
   "metadata": {},
   "outputs": [
    {
     "name": "stdout",
     "output_type": "stream",
     "text": [
      "[0, 1, 2, 3, 4, 9, 14, 19, 24, 23, 22, 21, 20, 15, 10, 5, 6, 7, 8, 13, 18, 17,\n",
      " 16, 11, 12]\n"
     ]
    }
   ],
   "source": [
    "pprint(list(spiral_matrix(mat)), compact=True)"
   ]
  },
  {
   "cell_type": "code",
   "execution_count": 6,
   "id": "41b1ec53-30f9-43e3-a3dc-38ef2cd59cb9",
   "metadata": {},
   "outputs": [],
   "source": [
    "xx, yy = np.indices((5, 5))"
   ]
  },
  {
   "cell_type": "code",
   "execution_count": 7,
   "id": "e9e017d9-c1e0-455d-9745-1057cd17314c",
   "metadata": {},
   "outputs": [
    {
     "data": {
      "text/plain": [
       "array([[0, 0, 0, 0, 0],\n",
       "       [1, 1, 1, 1, 1],\n",
       "       [2, 2, 2, 2, 2],\n",
       "       [3, 3, 3, 3, 3],\n",
       "       [4, 4, 4, 4, 4]])"
      ]
     },
     "execution_count": 7,
     "metadata": {},
     "output_type": "execute_result"
    }
   ],
   "source": [
    "xx"
   ]
  },
  {
   "cell_type": "code",
   "execution_count": 8,
   "id": "1381ceed-fcb4-4c58-a3bf-61a76f6e8379",
   "metadata": {},
   "outputs": [
    {
     "data": {
      "text/plain": [
       "array([[0, 1, 2, 3, 4],\n",
       "       [0, 1, 2, 3, 4],\n",
       "       [0, 1, 2, 3, 4],\n",
       "       [0, 1, 2, 3, 4],\n",
       "       [0, 1, 2, 3, 4]])"
      ]
     },
     "execution_count": 8,
     "metadata": {},
     "output_type": "execute_result"
    }
   ],
   "source": [
    "yy"
   ]
  },
  {
   "cell_type": "code",
   "execution_count": 9,
   "id": "93a25491-7b69-4ade-ab36-477f1b2b04ce",
   "metadata": {},
   "outputs": [],
   "source": [
    "mat2 = np.empty((5, 5))"
   ]
  },
  {
   "cell_type": "code",
   "execution_count": 10,
   "id": "d4f22d9d-409b-47a9-8e9c-bcbe179c3f2e",
   "metadata": {},
   "outputs": [],
   "source": [
    "from itertools import count\n",
    "\n",
    "c = count(1)\n",
    "for row, col in zip(spiral_matrix(xx), spiral_matrix(yy)):\n",
    "    mat2[row, col] = next(c)"
   ]
  },
  {
   "cell_type": "code",
   "execution_count": 11,
   "id": "52884c86-14b2-4674-b6e0-0b23f351cf62",
   "metadata": {},
   "outputs": [
    {
     "data": {
      "text/plain": [
       "array([[ 1.,  2.,  3.,  4.,  5.],\n",
       "       [16., 17., 18., 19.,  6.],\n",
       "       [15., 24., 25., 20.,  7.],\n",
       "       [14., 23., 22., 21.,  8.],\n",
       "       [13., 12., 11., 10.,  9.]])"
      ]
     },
     "execution_count": 11,
     "metadata": {},
     "output_type": "execute_result"
    }
   ],
   "source": [
    "mat2"
   ]
  },
  {
   "cell_type": "code",
   "execution_count": null,
   "id": "22847e3f-35be-462c-8427-40be1f29385d",
   "metadata": {},
   "outputs": [],
   "source": []
  }
 ],
 "metadata": {
  "kernelspec": {
   "display_name": "Python 3 (ipykernel)",
   "language": "python",
   "name": "python3"
  },
  "language_info": {
   "codemirror_mode": {
    "name": "ipython",
    "version": 3
   },
   "file_extension": ".py",
   "mimetype": "text/x-python",
   "name": "python",
   "nbconvert_exporter": "python",
   "pygments_lexer": "ipython3",
   "version": "3.8.10"
  }
 },
 "nbformat": 4,
 "nbformat_minor": 5
}
